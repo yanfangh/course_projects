{
 "cells": [
  {
   "cell_type": "code",
   "execution_count": 2,
   "metadata": {},
   "outputs": [],
   "source": [
    "# %%\n",
    "import geopandas as gpd\n",
    "import numpy as np\n",
    "\n",
    "shp=\"/vol/home/s2465922/data/community_areas/geo_export_2d6ca2cd-726e-4f78-9dc4-b833b8f52d77.shp\"\n",
    "\n",
    "community=gpd.read_file(shp)\n",
    "\n",
    "community['centroid']=community['geometry'].centroid\n",
    "\n",
    "# %%\n",
    "# kw=ps.lib.weights.Kernel.from_dataframe(community, bandwidth=0.09, \n",
    "#     function='gaussian',ids='area_num_1')\n",
    "\n",
    "# %%\n",
    "class NeighborEdge:\n",
    "\n",
    "  def euclidean_dist(self,p1,p2):\n",
    "    p1=np.array(p1)\n",
    "    p2=np.array(p2)\n",
    "    d=np.sqrt(sum((p1-p2)**2))\n",
    "    return d\n",
    "\n",
    "  def hour_diff(self,t1,t2):\n",
    "    diff=abs(t1-t2)\n",
    "    return min(diff,24-diff)\n",
    "\n",
    "  def kernel(self, d, bw):\n",
    "    d_=d/bw\n",
    "    kw=0 if d_>1 else np.exp((-d_*d_/2))\n",
    "    return kw\n",
    "\n",
    "  def create_edges(self,node_dict,bw,type):\n",
    "    edges=[]\n",
    "    nodes=list(node_dict.keys())\n",
    "\n",
    "    for i in range(len(nodes)-1):\n",
    "      for j in range(i+1, len(nodes)):\n",
    "        v1, v2=node_dict[nodes[i]], node_dict[nodes[j]]\n",
    "        if type=='r':\n",
    "          kw=self.kernel(self.euclidean_dist(v1,v2), bw)\n",
    "        if type=='h':\n",
    "          kw=self.kernel(self.hour_diff(v1,v2), bw)\n",
    "        if kw>0:\n",
    "          edges.append((nodes[i], nodes[j], kw))\n",
    "          edges.append((nodes[j], nodes[i], kw))\n",
    "\n",
    "    return edges\n",
    "\n",
    "  def save_edges(self, edge_type, edge_lst):\n",
    "    file=edge_type+'_edges.txt'\n",
    "    with open(file, 'w') as f:\n",
    "      for edge in  edge_lst:\n",
    "          f.write(\"\\t\".join(str(e) for e in edge))\n",
    "          f.write(\"\\n\")\n",
    "\n",
    "community['point']=community['centroid'].apply(lambda p: (p.x, p.y))\n",
    "points=community.set_index('area_num_1')['point'].to_dict()\n",
    "\n",
    "hours=dict({(i,h) for i,h in enumerate(np.arange(24))})\n",
    "\n",
    "ne=NeighborEdge()\n",
    "\n",
    "hh_edges=ne.create_edges(hours,bw=4, type='h')\n",
    "\n",
    "rr_edges=ne.create_edges(points,bw=0.05, type='r')\n",
    "\n",
    "ne.save_edges('hh', hh_edges)\n",
    "\n",
    "ne.save_edges('rr', rr_edges)\n",
    "\n",
    "\n",
    "\n",
    "# %%\n",
    "\n",
    "\n",
    "# %%\n"
   ]
  },
  {
   "cell_type": "code",
   "execution_count": 31,
   "metadata": {},
   "outputs": [
    {
     "data": {
      "text/plain": [
       "558"
      ]
     },
     "execution_count": 31,
     "metadata": {},
     "output_type": "execute_result"
    }
   ],
   "source": [
    "len(rr_edges)"
   ]
  },
  {
   "cell_type": "code",
   "execution_count": 32,
   "metadata": {},
   "outputs": [],
   "source": [
    "def hour_diff(t1,t2):\n",
    "  diff=abs(t1-t2)\n",
    "  return min(diff,24-diff)"
   ]
  },
  {
   "cell_type": "code",
   "execution_count": 35,
   "metadata": {},
   "outputs": [
    {
     "data": {
      "text/plain": [
       "2"
      ]
     },
     "execution_count": 35,
     "metadata": {},
     "output_type": "execute_result"
    }
   ],
   "source": [
    "hour_diff(0,22)"
   ]
  },
  {
   "cell_type": "code",
   "execution_count": null,
   "metadata": {},
   "outputs": [],
   "source": []
  }
 ],
 "metadata": {
  "kernelspec": {
   "display_name": "Python 3",
   "language": "python",
   "name": "python3"
  },
  "language_info": {
   "codemirror_mode": {
    "name": "ipython",
    "version": 3
   },
   "file_extension": ".py",
   "mimetype": "text/x-python",
   "name": "python",
   "nbconvert_exporter": "python",
   "pygments_lexer": "ipython3",
   "version": "3.7.7"
  }
 },
 "nbformat": 4,
 "nbformat_minor": 4
}
